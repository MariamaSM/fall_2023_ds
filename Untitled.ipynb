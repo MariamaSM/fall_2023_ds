{
 "cells": [
  {
   "cell_type": "code",
   "execution_count": 4,
   "id": "38f3a588",
   "metadata": {},
   "outputs": [
    {
     "name": "stdout",
     "output_type": "stream",
     "text": [
      "python is fun to learn\n",
      "hello world\n",
      "my name is mariama\n"
     ]
    }
   ],
   "source": [
    "print(\"python is fun to learn\")\n",
    "\n",
    "print(\"hello world\")\n",
    "\n",
    "\n",
    "print(\"my name is mariama\")"
   ]
  },
  {
   "cell_type": "markdown",
   "id": "59c42521",
   "metadata": {},
   "source": [
    "mariama"
   ]
  },
  {
   "cell_type": "markdown",
   "id": "d69b8216",
   "metadata": {},
   "source": [
    "* # Title\n",
    "    * Sub-title\n",
    "    \n",
    "   * *Data*"
   ]
  },
  {
   "cell_type": "code",
   "execution_count": 9,
   "id": "31253dd7",
   "metadata": {},
   "outputs": [
    {
     "data": {
      "text/plain": [
       "' lorem ipsum'"
      ]
     },
     "execution_count": 9,
     "metadata": {},
     "output_type": "execute_result"
    }
   ],
   "source": [
    "''' lorem ipsum'''"
   ]
  },
  {
   "cell_type": "code",
   "execution_count": 8,
   "id": "8d7033e5",
   "metadata": {},
   "outputs": [
    {
     "ename": "SyntaxError",
     "evalue": "invalid syntax (2713904252.py, line 1)",
     "output_type": "error",
     "traceback": [
      "\u001b[1;36m  Cell \u001b[1;32mIn[8], line 1\u001b[1;36m\u001b[0m\n\u001b[1;33m    >blockquote\u001b[0m\n\u001b[1;37m    ^\u001b[0m\n\u001b[1;31mSyntaxError\u001b[0m\u001b[1;31m:\u001b[0m invalid syntax\n"
     ]
    }
   ],
   "source": [
    ">blockquote"
   ]
  },
  {
   "cell_type": "code",
   "execution_count": null,
   "id": "47876e03",
   "metadata": {
    "collapsed": true
   },
   "outputs": [],
   "source": []
  }
 ],
 "metadata": {
  "kernelspec": {
   "display_name": "Python 3 (ipykernel)",
   "language": "python",
   "name": "python3"
  },
  "language_info": {
   "codemirror_mode": {
    "name": "ipython",
    "version": 3
   },
   "file_extension": ".py",
   "mimetype": "text/x-python",
   "name": "python",
   "nbconvert_exporter": "python",
   "pygments_lexer": "ipython3",
   "version": "3.11.4"
  }
 },
 "nbformat": 4,
 "nbformat_minor": 5
}
